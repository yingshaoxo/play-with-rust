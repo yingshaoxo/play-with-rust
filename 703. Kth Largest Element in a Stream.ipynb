{
 "cells": [
  {
   "cell_type": "markdown",
   "metadata": {},
   "source": [
    "https://leetcode.com/problems/kth-largest-element-in-a-stream\n",
    "\n",
    "\n",
    "Runtime: 268 ms, faster than 14.29% of Rust online submissions for Kth Largest Element in a Stream.\n",
    "Memory Usage: 5.7 MB, less than 71.43% of Rust online submissions for Kth Largest Element in a Stream.\n",
    "\n",
    "\n",
    "```rust\n",
    "struct KthLargest {\n",
    "    stream: Vec<i32>,\n",
    "    k: i32\n",
    "}\n",
    "\n",
    "impl KthLargest {\n",
    "    fn new(k: i32, nums: Vec<i32>) -> Self {\n",
    "        let stream = nums.to_vec();\n",
    "        return KthLargest{\n",
    "            stream: stream,\n",
    "            k: k\n",
    "        };\n",
    "    }\n",
    "    \n",
    "    fn add(& mut self, val: i32) -> i32 {\n",
    "        self.stream.push(val);\n",
    "        self.stream.sort();\n",
    "        return self.stream[self.stream.len() - self.k as usize];\n",
    "    }\n",
    "}\n",
    "```"
   ]
  },
  {
   "cell_type": "code",
   "execution_count": null,
   "metadata": {},
   "outputs": [],
   "source": []
  }
 ],
 "metadata": {
  "kernelspec": {
   "display_name": "Rust",
   "language": "rust",
   "name": "rust"
  },
  "language_info": {
   "codemirror_mode": "rust",
   "file_extension": ".rs",
   "mimetype": "text/rust",
   "name": "Rust",
   "pygment_lexer": "rust",
   "version": ""
  }
 },
 "nbformat": 4,
 "nbformat_minor": 4
}
