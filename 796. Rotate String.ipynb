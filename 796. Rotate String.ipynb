{
 "cells": [
  {
   "cell_type": "markdown",
   "metadata": {},
   "source": [
    "https://leetcode.com/problems/rotate-string\n",
    "\n",
    "\n",
    "\n",
    "Runtime: 0 ms, faster than 100.00% of Rust online submissions for Rotate String.\n",
    "Memory Usage: 2 MB, less than 100.00% of Rust online submissions for Rotate String.\n",
    "\n",
    "\n",
    "\n",
    "```rust\n",
    "pub struct Solution {}\n",
    "\n",
    "impl Solution {\n",
    "    pub fn rotate_string(a: String, b: String) -> bool {\n",
    "        if a.eq(\"\") && b.eq(\"\") {\n",
    "            return true;\n",
    "        }\n",
    "        if a.len() != b.len() {\n",
    "            return false;\n",
    "        }\n",
    "\n",
    "        let mut A = a.clone();\n",
    "        for i in 0..a.len() {\n",
    "            A = [&A[1..A.len()], &A[0..1]].concat();\n",
    "            //println!(\"{}\", A.to_string());\n",
    "            //println!(\"{}\", b.to_string());\n",
    "            //println!(\"\");\n",
    "            if A == b {\n",
    "                return true;\n",
    "            }\n",
    "        }\n",
    "        return false;\n",
    "    }\n",
    "}\n",
    "\n",
    "fn main() {\n",
    "    let r: bool = Solution::rotate_string(String::from(\"abc\"), String::from(\"bca\"));\n",
    "    println!(\"{}\", r as i32);\n",
    "}\n",
    "\n",
    "```\n",
    "\n",
    "\n",
    "Spent 3 hours. (rust is hard for beginners\n",
    "\n",
    "One shoot"
   ]
  },
  {
   "cell_type": "code",
   "execution_count": null,
   "metadata": {},
   "outputs": [],
   "source": []
  }
 ],
 "metadata": {
  "kernelspec": {
   "display_name": "Rust",
   "language": "rust",
   "name": "rust"
  },
  "language_info": {
   "codemirror_mode": "rust",
   "file_extension": ".rs",
   "mimetype": "text/rust",
   "name": "Rust",
   "pygment_lexer": "rust",
   "version": ""
  }
 },
 "nbformat": 4,
 "nbformat_minor": 4
}
